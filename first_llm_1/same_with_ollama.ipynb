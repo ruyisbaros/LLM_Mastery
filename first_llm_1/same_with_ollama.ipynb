{
 "cells": [
  {
   "cell_type": "code",
   "execution_count": 6,
   "metadata": {},
   "outputs": [
    {
     "data": {
      "text/plain": [
       "True"
      ]
     },
     "execution_count": 6,
     "metadata": {},
     "output_type": "execute_result"
    }
   ],
   "source": [
    "import os\n",
    "import requests\n",
    "from langchain_groq import ChatGroq\n",
    "from langchain_ollama import ChatOllama # type: ignore\n",
    "from dotenv import load_dotenv\n",
    "from bs4 import BeautifulSoup\n",
    "from IPython.display import Markdown, display\n",
    "from openai import OpenAI\n",
    "import ollama\n",
    "\n",
    "\n",
    "load_dotenv(\"../.env\")"
   ]
  },
  {
   "cell_type": "code",
   "execution_count": 2,
   "metadata": {},
   "outputs": [],
   "source": [
    "OLLAMA_API = \"http://localhost:11434/api/chat\"\n",
    "HEADERS = {\"Content-Type\": \"application/json\"}\n",
    "MODEL = \"llama3.2\""
   ]
  },
  {
   "cell_type": "code",
   "execution_count": 3,
   "metadata": {},
   "outputs": [],
   "source": [
    "messages = [{\"role\":\"user\", \"content\":\"Describe some of the bussiness aplications of Generative AI\"}]"
   ]
  },
  {
   "cell_type": "code",
   "execution_count": 4,
   "metadata": {},
   "outputs": [],
   "source": [
    "payload ={\n",
    "    \"model\": MODEL,\n",
    "    \"messages\": messages,\n",
    "    \"temperature\": 0.9,\n",
    "    \"stream\": False\n",
    "}"
   ]
  },
  {
   "cell_type": "code",
   "execution_count": 5,
   "metadata": {},
   "outputs": [
    {
     "name": "stdout",
     "output_type": "stream",
     "text": [
      "Generative AI has numerous business applications across various industries. Here are some examples:\n",
      "\n",
      "1. **Content Generation**: Generative AI can be used to generate high-quality content such as articles, social media posts, product descriptions, and more. This can help businesses save time and resources while maintaining consistency in their content.\n",
      "2. **Image and Video Generation**: Generative AI can create realistic images and videos that can be used for various purposes such as advertising, marketing, and entertainment. For example, a company can use generative AI to create custom product images or animations.\n",
      "3. **Recommendation Systems**: Generative AI can be used to generate personalized product recommendations based on customer behavior and preferences. This can help businesses increase sales and improve customer satisfaction.\n",
      "4. **Chatbots and Virtual Assistants**: Generative AI can power chatbots and virtual assistants that can understand and respond to customer queries, providing 24/7 support and improving customer experience.\n",
      "5. **Predictive Maintenance**: Generative AI can be used to predict equipment failures and schedule maintenance, reducing downtime and increasing overall efficiency.\n",
      "6. **Marketing Automation**: Generative AI can automate marketing campaigns by generating personalized content, subject lines, and email bodies that are tailored to individual customers.\n",
      "7. **Customer Service**: Generative AI can be used to generate customized responses to customer inquiries, improving response times and reducing support costs.\n",
      "8. **Data Analysis**: Generative AI can be used to analyze large datasets and identify patterns and trends that may not be visible to human analysts.\n",
      "9. **Creative Writing**: Generative AI can be used to generate creative writing such as poetry, stories, and scripts, which can help businesses create unique content for marketing and advertising campaigns.\n",
      "10. **Fashion Design**: Generative AI can be used to generate new fashion designs, reducing the need for manual sketching and prototyping.\n",
      "11. **Music Generation**: Generative AI can be used to compose music that is tailored to specific moods or emotions, which can be used in film scoring, advertising, and more.\n",
      "12. **Language Translation**: Generative AI can be used to generate high-quality translations of text and speech, improving communication across languages and cultures.\n",
      "13. **Cybersecurity**: Generative AI can be used to detect and respond to cyber threats in real-time, improving the overall security posture of organizations.\n",
      "14. **Supply Chain Optimization**: Generative AI can be used to optimize supply chain logistics by predicting demand and supply, reducing inventory costs and improving delivery times.\n",
      "15. **Financial Modeling**: Generative AI can be used to generate financial models that predict stock prices, revenue growth, and other key performance indicators.\n",
      "\n",
      "These are just a few examples of the many business applications of Generative AI. As the technology continues to evolve, we can expect to see even more innovative uses in various industries.\n"
     ]
    }
   ],
   "source": [
    "response = requests.post(OLLAMA_API, json=payload, headers=HEADERS)\n",
    "print(response.json()[\"message\"][\"content\"])"
   ]
  },
  {
   "cell_type": "code",
   "execution_count": 8,
   "metadata": {},
   "outputs": [
    {
     "name": "stdout",
     "output_type": "stream",
     "text": [
      "Generative AI has numerous business applications across various industries. Here are some examples:\n",
      "\n",
      "1. **Content Creation**: Generative AI can be used to create personalized content, such as:\n",
      "\t* Articles and blog posts\n",
      "\t* Social media posts and tweets\n",
      "\t* Product descriptions and product recommendations\n",
      "\t* Chatbot conversations\n",
      "2. **Visual Content Generation**: Generative AI can generate high-quality visual content, including:\n",
      "\t* Images (e.g., product images, landscape photos)\n",
      "\t* Videos (e.g., explainer videos, tutorials)\n",
      "\t* 3D models and animations\n",
      "\t* Icons and graphics\n",
      "3. **Music and Audio Generation**: Generative AI can create music and audio files, such as:\n",
      "\t* Original songs and jingles\n",
      "\t* Sound effects and Foley sound design\n",
      "\t* Voiceovers and audiobooks\n",
      "4. **Personalization**: Generative AI can be used to personalize customer experiences, including:\n",
      "\t* Product recommendations based on browsing history and purchase behavior\n",
      "\t* Personalized marketing messages and email campaigns\n",
      "\t* Customizable product designs and layouts\n",
      "5. **Design Assistance**: Generative AI can assist designers with tasks such as:\n",
      "\t* Sketching and drawing\n",
      "\t* Color palette suggestions\n",
      "\t* Layout and composition ideas\n",
      "6. **Customer Service**: Generative AI can be used to power chatbots and virtual assistants, providing 24/7 customer support and answering frequently asked questions.\n",
      "7. **Education and Learning**: Generative AI can create personalized learning content, including:\n",
      "\t* Adaptive learning materials and assessments\n",
      "\t* Interactive simulations and games\n",
      "\t* Customized lesson plans and tutoring sessions\n",
      "8. **Marketing Automation**: Generative AI can automate marketing tasks, such as:\n",
      "\t* Social media posting and scheduling\n",
      "\t* Email campaign creation and personalization\n",
      "\t* Lead generation and qualification\n",
      "9. **Data Analysis and Visualization**: Generative AI can analyze and visualize large datasets, providing insights and trends that can inform business decisions.\n",
      "10. **Business Process Automation**: Generative AI can automate repetitive and time-consuming tasks, freeing up human resources for more strategic and creative work.\n",
      "\n",
      "Some specific examples of businesses using generative AI include:\n",
      "\n",
      "* **Adobe**: Uses generative AI to create personalized product recommendations and designs.\n",
      "* **Amazon**: Leverages generative AI to power its product recommendation engine and generate personalized marketing messages.\n",
      "* **Microsoft**: Uses generative AI to create custom chatbots and virtual assistants for customers.\n",
      "* **Google**: Employs generative AI to improve search results, personalize ads, and generate high-quality visual content.\n",
      "\n",
      "These are just a few examples of the many business applications of generative AI. As the technology continues to evolve, we can expect to see even more innovative uses in various industries.\n"
     ]
    }
   ],
   "source": [
    "response = ollama.chat(model=MODEL, messages=messages)\n",
    "print(response[\"message\"][\"content\"])"
   ]
  },
  {
   "cell_type": "code",
   "execution_count": null,
   "metadata": {},
   "outputs": [],
   "source": []
  }
 ],
 "metadata": {
  "kernelspec": {
   "display_name": "langenv",
   "language": "python",
   "name": "python3"
  },
  "language_info": {
   "codemirror_mode": {
    "name": "ipython",
    "version": 3
   },
   "file_extension": ".py",
   "mimetype": "text/x-python",
   "name": "python",
   "nbconvert_exporter": "python",
   "pygments_lexer": "ipython3",
   "version": "3.12.2"
  }
 },
 "nbformat": 4,
 "nbformat_minor": 2
}
